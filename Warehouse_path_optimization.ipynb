{
  "nbformat": 4,
  "nbformat_minor": 0,
  "metadata": {
    "colab": {
      "name": "Warehouse_path_optimization.ipynb",
      "provenance": [],
      "authorship_tag": "ABX9TyMtiPWfN60d5ZyjFZpx243i",
      "include_colab_link": true
    },
    "kernelspec": {
      "name": "python3",
      "display_name": "Python 3"
    },
    "language_info": {
      "name": "python"
    }
  },
  "cells": [
    {
      "cell_type": "markdown",
      "metadata": {
        "id": "view-in-github",
        "colab_type": "text"
      },
      "source": [
        "<a href=\"https://colab.research.google.com/github/Pruthvik-Reddy/Warehouse_optimal_path/blob/main/Warehouse_path_optimization.ipynb\" target=\"_parent\"><img src=\"https://colab.research.google.com/assets/colab-badge.svg\" alt=\"Open In Colab\"/></a>"
      ]
    },
    {
      "cell_type": "code",
      "metadata": {
        "id": "U3VJ8QrdG5z5"
      },
      "source": [
        "class Graph(object):\n",
        "\n",
        "    def __init__(self, is_directed):\n",
        "        self.all_edges = []\n",
        "        self.edges=[]\n",
        "        self.all_vertex = {}\n",
        "        self.is_directed = is_directed\n",
        "\n",
        "    def add_edge(self, id1,name1, id2,name2, weight=0):\n",
        "        if id1 in self.all_vertex:\n",
        "            vertex1 = self.all_vertex[id1]\n",
        "        else:\n",
        "            vertex1 = Vertex(id1,name1)\n",
        "            self.all_vertex[id1] = vertex1\n",
        "\n",
        "\n",
        "        if id2 in self.all_vertex:\n",
        "            vertex2 = self.all_vertex[id2]\n",
        "        else:\n",
        "            vertex2 = Vertex(id2,name2)\n",
        "            self.all_vertex[id2] = vertex2\n",
        "\n",
        "        edge = Edge(vertex1, vertex2, self.is_directed, weight)\n",
        "        self.all_edges.append(edge)\n",
        "        self.edges.append(edge.values())\n",
        "        vertex1.add_adjacent_vertex(edge, vertex2)\n",
        "        if self.is_directed is not True:\n",
        "            vertex2.add_adjacent_vertex(edge,vertex1)\n",
        "\n",
        " \n",
        "class Edge(object):\n",
        "    \n",
        "    def __init__(self, vertex1, vertex2, is_directed, weight):\n",
        "        self.vertex1 = vertex1\n",
        "        self.vertex2 = vertex2\n",
        "        self.is_directed = is_directed\n",
        "        self.weight = weight\n",
        "\n",
        "    def __eq__(self, other):\n",
        "        return self.vertex1.id == other.vertex1.id and self.vertex2.id == other.vertex2.id\n",
        "\n",
        "    def __hash(self):\n",
        "        return hash(vertex1) + hash(vertex2)\n",
        "    \n",
        "    def __str__(self):\n",
        "        return \"Edge \" + str(self.vertex1) + \" \" + str(self.vertex2) + \" Weight-\" + str(self.weight)\n",
        "    def values(self):\n",
        "      return (self.vertex1,self.vertex2,self.weight)\n",
        "\n",
        "    def __repr__(self):\n",
        "        return self.__str__()\n",
        "    \n",
        "class Vertex(object):\n",
        "\n",
        "    def __init__(self, id,name):\n",
        "        self.id = id\n",
        "        self.name=name\n",
        "        self.edges = []\n",
        "        self.adjacent_vertices = []\n",
        "\n",
        "    def add_adjacent_vertex(self, edge, vertex):\n",
        "        self.edges.append(edge)\n",
        "        self.adjacent_vertices.append(vertex)\n",
        "\n",
        "    def get_degree(self):\n",
        "        return len(self.edges)\n",
        "    \n",
        "    def __eq__(self, other):\n",
        "        return self.id == other.id\n",
        "\n",
        "    def __hash__(self):\n",
        "        return hash(self.id)\n",
        "    \n",
        "    def __str__(self):\n",
        "        return str(\"Vertex-\" + str(self.name))\n",
        "    \n",
        "    def __repr__(self):\n",
        "        return self.__str__();\n",
        "\n",
        "\n",
        "    def __lt__(self, other):\n",
        "        return self.id < other.id\n",
        "                    \n",
        "    def __gt__(self, other):\n",
        "        return self.id > other.id\n",
        "    \n"
      ],
      "execution_count": null,
      "outputs": []
    },
    {
      "cell_type": "markdown",
      "metadata": {
        "id": "BEB4qGYE3QzJ"
      },
      "source": [
        "“Pick path” refers to the route a picker takes through the picking area to complete his or her picking tasks. Since this activity may account for 50% or more of warehouse/store operations, optimizing the pick path can provide quantifiable savings in operating costs.\n",
        "\n",
        "In this algorithm, we use dijkstra algorithm to compute shortest paths.\n",
        "\n",
        "A warehouse network can be interpreted as a giant graph in which every intersection is a node and every road is an edge.\n",
        "\n",
        "Intersections->nodes\n",
        "paths->edges\n",
        "\n",
        "some edges are free-edges which mean that the width is good enough to accomodate multiple forklifts.\n",
        "Remaining are non-free edges in which only one forklift is possible. So if one is going in one direction, there can be other forklift which follows it but there cannot be another froklift in the opposite direction.\n",
        "\n",
        "Also, we have to take into consideration whether a particular edge has any forklifts in it picking items. In that case, we cannot give that edge for other forklifts for traversal.\n",
        "\n",
        "Also, in case of drooping/picking items at a particular aisle, if there are forklifts at A30,A60 then A45 is not possible but A70 is possible.\n",
        "\n",
        "Algorithm:(Not sure if correct,check the code too):\n",
        "1. We maintain a data strcuture(called stack in the code) which stores the numbers (e.g 30,60) which checks if the destination is actually possible or not.(like if 30 and 60 in stack, 45 is not possible but 70 is possible). So if a path exists then it is important that we add that number to stack.\n",
        "\n",
        "2. we shouldn't include any edges which have some forklifts picking/unloading in them. So we make weights of all such edges as infinity so that they won't be included in our graph.(we just clone the graph so that the original graph isn't affected)\n",
        "\n",
        "3. Also after you get the path, we check for conflict in edges. We assume a speed and calculate the estimated time interval for a forklift in an aisle or edge.\n",
        "\n",
        "4. If its a non-free edge and there is an overlap in time with other forklifts then we make changes by manipulating graphs i.e making the edge weights as infinity. So all the conflicting edges are made infinity and we calculate the shortest graph again.\n",
        "\n",
        "\n",
        "\n"
      ]
    },
    {
      "cell_type": "code",
      "metadata": {
        "id": "4dULw1RAHHFa"
      },
      "source": [
        "from heapq import *\n",
        "\n",
        "class PriorityQueue(object):\n",
        "    \n",
        "    def __init__(self, is_min_heap):\n",
        "        self.pq = []\n",
        "        self.entry_finder = {}\n",
        "        if(is_min_heap is True):\n",
        "            self.mul = 1\n",
        "        else :\n",
        "            self.mul = -1\n",
        "         \n",
        "    def contains_task(self, task):\n",
        "        if task in self.entry_finder:\n",
        "            return True\n",
        "        else:\n",
        "            return False\n",
        "\n",
        "    def get_task_priority(self, task):\n",
        "        if task in self.entry_finder:\n",
        "            return (self.entry_finder[task])[0]\n",
        "        raise ValueError(\"task does not exist\")\n",
        "        \n",
        "    def add_task(self, priority, task):\n",
        "        if task in self.entry_finder:\n",
        "            raise KeyError(\"Key already exists\")\n",
        "        entry = [self.mul*priority, False, task]\n",
        "        self.entry_finder[task] = entry\n",
        "        heappush(self.pq, entry)\n",
        "\n",
        "    def change_task_priority(self, priority, task):\n",
        "        if task not in self.entry_finder:\n",
        "            raise KeyError(\"Task not found\")\n",
        "        self.remove_task(task)\n",
        "        entry = [self.mul*priority, False, task]\n",
        "        self.entry_finder[task] = entry\n",
        "        heappush(self.pq, entry)\n",
        " \n",
        "    def remove_task(self, task):\n",
        "        entry = self.entry_finder.pop(task)\n",
        "        entry[1] = True\n",
        "\n",
        "    def pop_task(self):\n",
        "        while self.pq:\n",
        "            priority, removed, task = heappop(self.pq)\n",
        "            if removed is False:\n",
        "                del self.entry_finder[task]\n",
        "                return task\n",
        "        raise KeyError(\"pop from an empty priority queue\")\n",
        "\n",
        "    def peek_task(self):\n",
        "        while self.pq:\n",
        "            priority, removed, task = tuple(heappop(self.pq))\n",
        "            if removed is False:\n",
        "                 heappush(self.pq, [priority, False, task])\n",
        "                 return task\n",
        "        raise KeyError(\"pop from an empty priority queue\")\n",
        "\n",
        "    def is_empty(self):\n",
        "        try:\n",
        "            self.peek_task()\n",
        "            return False\n",
        "        except KeyError:\n",
        "            return True\n",
        "\n",
        "    def __str__(self):\n",
        "        return str(self.entry_finder) + \" \" + str(self.pq)\n",
        "        \n"
      ],
      "execution_count": null,
      "outputs": []
    },
    {
      "cell_type": "code",
      "metadata": {
        "id": "vvxw82zmHPHj"
      },
      "source": [
        "\n",
        "vertex_ids={\n",
        "    \"S_1\":1,\n",
        "    \"S_2\":2,\n",
        "    \"A_f\":3,\n",
        "    \"A_b\":4,\n",
        "    \"B_f\":5,\n",
        "     \"B_b\":6,\n",
        "    \"C_f\":7,\n",
        "    \"C_b\":8,\n",
        "    \"D_f\":9,\n",
        "    \"D_b\":10,\n",
        "    \"E_f\":11,\n",
        "    \"E_b\":12,\n",
        "    \"F_f\":13,\n",
        "    \"F_b\":14,\n",
        "    \"G_f\":15,\n",
        "    \"G_b\":16,\n",
        "    \"H_f\":17,\n",
        "    \"H_b\":18,\n",
        "    \"I_f\":19,\n",
        "    \"I_b\":20,\n",
        "    \"J_f\":21,\n",
        "    \"J_b\":22\n",
        "}"
      ],
      "execution_count": null,
      "outputs": []
    },
    {
      "cell_type": "code",
      "metadata": {
        "id": "FOqG8KKHHVvY"
      },
      "source": [
        "\n",
        "free_edges=set()\n",
        "free_edges.add((\"Vertex-S_1\",\"Vertex-A_f\"))\n",
        "free_edges.add((\"Vertex-A_f\",\"Vertex-B_f\"))\n",
        "free_edges.add((\"Vertex-B_f\",\"Vertex-C_f\"))\n",
        "free_edges.add((\"Vertex-C_f\",\"Vertex-D_f\"))\n",
        "free_edges.add((\"Vertex-D_f\",\"Vertex-E_f\"))\n",
        "free_edges.add((\"Vertex-E_f\",\"Vertex-S_2\"))\n",
        "\n",
        "free_edges.add((\"Vertex-S_2\",\"Vertex-E_f\"))\n",
        "free_edges.add((\"Vertex-A_f\",\"Vertex-S_1\"))\n",
        "free_edges.add((\"Vertex-B_f\",\"Vertex-A_f\"))\n",
        "free_edges.add((\"Vertex-C_f\",\"Vertex-B_f\"))\n",
        "free_edges.add((\"Vertex-D_f\",\"Vertex-C_f\"))\n",
        "free_edges.add((\"Vertex-E_f\",\"Vertex-D_f\"))\n",
        "\n",
        "free_edges.add((\"Vertex-A_f\",\"Vertex-A_b\"))\n",
        "free_edges.add((\"Vertex-E_f\",\"Vertex-E_b\"))\n",
        "\n",
        "free_edges.add((\"Vertex-A_b\",\"Vertex-A_f\"))\n",
        "free_edges.add((\"Vertex-E_b\",\"Vertex-E_f\"))\n",
        "\n",
        "\n",
        "\n",
        "free_edges.add((\"Vertex-A_b\",\"Vertex-B_b\"))\n",
        "free_edges.add((\"Vertex-B_b\",\"Vertex-C_b\"))\n",
        "free_edges.add((\"Vertex-C_b\",\"Vertex-D_b\"))\n",
        "free_edges.add((\"Vertex-D_b\",\"Vertex-E_b\"))\n",
        "\n",
        "free_edges.add((\"Vertex-B_b\",\"Vertex-A_b\"))\n",
        "free_edges.add((\"Vertex-C_b\",\"Vertex-B_b\"))\n",
        "free_edges.add((\"Vertex-D_b\",\"Vertex-C_b\"))\n",
        "free_edges.add((\"Vertex-E_b\",\"Vertex-D_b\"))\n",
        "\n",
        "\n",
        "free_edges.add((\"Vertex-A_b\",\"Vertex-F_f\"))\n",
        "free_edges.add((\"Vertex-E_b\",\"Vertex-J_f\"))\n",
        "\n",
        "free_edges.add((\"Vertex-F_f\",\"Vertex-A_b\"))\n",
        "free_edges.add((\"Vertex-J_f\",\"Vertex-E_b\"))\n",
        "\n",
        "\n",
        "\n",
        "free_edges.add((\"Vertex-F_f\",\"Vertex-G_f\"))\n",
        "free_edges.add((\"Vertex-G_f\",\"Vertex-H_f\"))\n",
        "free_edges.add((\"Vertex-H_f\",\"Vertex-I_f\"))\n",
        "free_edges.add((\"Vertex-I_f\",\"Vertex-J_f\"))\n",
        "\n",
        "free_edges.add((\"Vertex-G_f\",\"Vertex-F_f\"))\n",
        "free_edges.add((\"Vertex-H_f\",\"Vertex-G_f\"))\n",
        "free_edges.add((\"Vertex-I_f\",\"Vertex-H_f\"))\n",
        "free_edges.add((\"Vertex-J_f\",\"Vertex-I_f\"))\n",
        "\n",
        "\n",
        "free_edges.add((\"Vertex-F_f\",\"Vertex-F_b\"))\n",
        "free_edges.add((\"Vertex-J_f\",\"Vertex-J_b\"))\n",
        "\n",
        "free_edges.add((\"Vertex-F_b\",\"Vertex-F_f\"))\n",
        "free_edges.add((\"Vertex-J_b\",\"Vertex-J_f\"))\n",
        "\n",
        "free_edges.add((\"Vertex-B_b\",\"Vertex-G_f\"))\n",
        "free_edges.add((\"Vertex-C_b\",\"Vertex-H_f\"))\n",
        "free_edges.add((\"Vertex-D_b\",\"Vertex-I_f\"))\n",
        "\n",
        "\n",
        "free_edges.add((\"Vertex-G_f\",\"Vertex-B_b\"))\n",
        "free_edges.add((\"Vertex-H_f\",\"Vertex-C_b\"))\n",
        "free_edges.add((\"Vertex-I_f\",\"Vertex-D_b\"))\n",
        "\n",
        "\n",
        "\n",
        "free_edges.add((\"Vertex-F_b\",\"Vertex-G_b\"))\n",
        "free_edges.add((\"Vertex-G_b\",\"Vertex-H_b\"))\n",
        "free_edges.add((\"Vertex-H_b\",\"Vertex-I_b\"))\n",
        "free_edges.add((\"Vertex-I_b\",\"Vertex-J_b\"))\n",
        "\n",
        "free_edges.add((\"Vertex-G_b\",\"Vertex-F_b\"))\n",
        "free_edges.add((\"Vertex-H_b\",\"Vertex-G_b\"))\n",
        "free_edges.add((\"Vertex-I_b\",\"Vertex-H_b\"))\n",
        "free_edges.add((\"Vertex-J_b\",\"Vertex-I_b\"))\n"
      ],
      "execution_count": null,
      "outputs": []
    },
    {
      "cell_type": "code",
      "metadata": {
        "id": "MSArO6BlHh16"
      },
      "source": [
        "\n",
        "non_free_edges=set()\n",
        "non_free_edges.add((\"Vertex-B_f\",\"Vertex-B_b\"))\n",
        "non_free_edges.add((\"Vertex-C_f\",\"Vertex-C_b\"))\n",
        "non_free_edges.add((\"Vertex-D_f\",\"Vertex-D_b\"))\n",
        "non_free_edges.add((\"Vertex-G_f\",\"Vertex-G_b\"))\n",
        "non_free_edges.add((\"Vertex-H_f\",\"Vertex-H_b\"))\n",
        "non_free_edges.add((\"Vertex-I_f\",\"Vertex-I_b\"))\n",
        "\n",
        "non_free_edges.add((\"Vertex-B_b\",\"Vertex-B_f\"))\n",
        "non_free_edges.add((\"Vertex-C_b\",\"Vertex-C_f\"))\n",
        "non_free_edges.add((\"Vertex-D_b\",\"Vertex-D_f\"))\n",
        "non_free_edges.add((\"Vertex-G_b\",\"Vertex-G_f\"))\n",
        "non_free_edges.add((\"Vertex-H_b\",\"Vertex-H_f\"))\n",
        "non_free_edges.add((\"Vertex-I_b\",\"Vertex-I_f\"))\n"
      ],
      "execution_count": null,
      "outputs": []
    },
    {
      "cell_type": "code",
      "metadata": {
        "colab": {
          "base_uri": "https://localhost:8080/"
        },
        "id": "muXL3iQ1Hk1j",
        "outputId": "c6fa65f4-858a-4eeb-b3d4-c70374c867a4"
      },
      "source": [
        "\n",
        "\n",
        "print(len(free_edges))\n",
        "print(len(non_free_edges))"
      ],
      "execution_count": null,
      "outputs": [
        {
          "output_type": "stream",
          "text": [
            "54\n",
            "12\n"
          ],
          "name": "stdout"
        }
      ]
    },
    {
      "cell_type": "code",
      "metadata": {
        "colab": {
          "base_uri": "https://localhost:8080/"
        },
        "id": "bYnqR1OpbsG_",
        "outputId": "20ff5bfd-56f1-4e06-f02c-4093a4a4bbc8"
      },
      "source": [
        "from collections import defaultdict\n",
        "stack=defaultdict(list)\n",
        "print(stack[\"A\"])\n",
        "\n",
        "overlapping_dict=defaultdict(list)\n"
      ],
      "execution_count": null,
      "outputs": [
        {
          "output_type": "stream",
          "text": [
            "[]\n"
          ],
          "name": "stdout"
        }
      ]
    },
    {
      "cell_type": "code",
      "metadata": {
        "id": "qJ63OudSHnx2",
        "colab": {
          "base_uri": "https://localhost:8080/"
        },
        "outputId": "d7f08e48-8192-4d92-8e72-d26de954f1df"
      },
      "source": [
        "\n",
        "\n",
        "import sys\n",
        "\n",
        "\n",
        "def shortest_path(graph, sourceVertex):\n",
        "\n",
        "    min_heap = PriorityQueue(True)\n",
        "    distance = {}\n",
        "    parent = {}\n",
        "\n",
        "    for vertex in graph.all_vertex.values():\n",
        "        min_heap.add_task(float('inf'), vertex)\n",
        "\n",
        "    min_heap.change_task_priority(0, sourceVertex)\n",
        "    distance[sourceVertex] = 0\n",
        "    parent[sourceVertex] = None\n",
        "\n",
        "    while min_heap.is_empty() is False:\n",
        "        task = min_heap.peek_task()\n",
        "        weight = min_heap.get_task_priority(task)               \n",
        "        current =  min_heap.pop_task()\n",
        "        distance[current] = weight\n",
        "\n",
        "        for edge in current.edges:\n",
        "            adjacent = get_other_vertex_for_edge(current, edge)\n",
        "            if min_heap.contains_task(adjacent) is False:\n",
        "                continue\n",
        "\n",
        "            new_distance = distance[current] + edge.weight\n",
        "            if min_heap.get_task_priority(adjacent) > new_distance:\n",
        "                min_heap.change_task_priority(new_distance, adjacent)\n",
        "                parent[adjacent] = current\n",
        "                \n",
        "                \n",
        "    dist={}\n",
        "    par={}\n",
        "    for key,value in distance.items():\n",
        "      a=key.__str__()\n",
        "      dist[a]=value\n",
        "    for key,value in parent.items():\n",
        "      a=key.__str__()\n",
        "      val=value.__str__()\n",
        "      par[a]=val\n",
        "    return dist,par\n",
        "\n",
        "\n",
        "def get_other_vertex_for_edge(vertex, edge):\n",
        "    if edge.vertex1.id == vertex.id:\n",
        "        return edge.vertex2\n",
        "    else:\n",
        "        return edge.vertex1\n",
        "\n",
        "\n",
        "graph = Graph(False)\n",
        "graph.add_edge(1,\"S_1\",3,\"A_f\",4)\n",
        "graph.add_edge(2,\"S_2\",11,\"E_f\",4)\n",
        "graph.add_edge(3,\"A_f\",4,\"A_b\",100)\n",
        "graph.add_edge(3,\"A_f\",5,\"B_f\",8)\n",
        "graph.add_edge(5,\"B_f\",6,\"B_b\",100)\n",
        "graph.add_edge(5,\"B_f\",7,\"C_f\",8)\n",
        "graph.add_edge(7,\"C_f\",8,\"C_b\",100)\n",
        "graph.add_edge(7,\"C_f\",9,\"D_f\",8)\n",
        "\n",
        "\n",
        "graph.add_edge(9,\"D_f\",10,\"D_b\",100)\n",
        "graph.add_edge(9,\"D_f\",11,\"E_f\",8)\n",
        "graph.add_edge(11,\"E_f\",12,\"E_b\",100)\n",
        "\n",
        "\n",
        "graph.add_edge(13,\"F_f\",14,\"F_b\",100)\n",
        "graph.add_edge(13,\"F_f\",15,\"G_f\",8)\n",
        "graph.add_edge(13,\"F_f\",4,\"A_b\",12)\n",
        "graph.add_edge(15,\"G_f\",16,\"G_b\",100)\n",
        "\n",
        "graph.add_edge(15,\"G_f\",17,\"H_f\",8)\n",
        "graph.add_edge(17,\"H_f\",18,\"H_b\",100)\n",
        "graph.add_edge(17,\"H_f\",19,\"I_f\",8)\n",
        "graph.add_edge(19,\"I_f\",20,\"I_b\",100)\n",
        "graph.add_edge(19,\"I_f\",21,\"J_f\",8)\n",
        "graph.add_edge(6,\"J_f\",22,\"J_b\",100)\n",
        "\n",
        "graph.add_edge(4,\"A_b\",6,\"B_b\",8)\n",
        "graph.add_edge(6,\"B_b\",15,\"G_f\",12)\n",
        "graph.add_edge(6,\"B_b\",8,\"C_b\",8)\n",
        "graph.add_edge(8,\"C_b\",17,\"H_f\",12)\n",
        "graph.add_edge(8,\"C_b\",10,\"D_b\",8)\n",
        "graph.add_edge(10,\"D_b\",19,\"I_f\",12)\n",
        "graph.add_edge(10,\"D_b\",12,\"E_b\",8)\n",
        "\n",
        "graph.add_edge(12,\"E_b\",21,\"J_f\",12)\n",
        "graph.add_edge(14,\"F_b\",16,\"G_b\",8)\n",
        "graph.add_edge(16,\"G_b\",18,\"H_b\",8)\n",
        "graph.add_edge(18,\"H_b\",20,\"I_b\",8)\n",
        "graph.add_edge(20,\"I_b\",22,\"J_b\",8)\n",
        "\n",
        "\n",
        "\n",
        "\n",
        "\n",
        "\n",
        "distance,parent= shortest_path(graph, graph.all_vertex[1])\n",
        "print(parent[\"Vertex-D_b\"])\n"
      ],
      "execution_count": null,
      "outputs": [
        {
          "output_type": "stream",
          "text": [
            "Vertex-D_f\n"
          ],
          "name": "stdout"
        }
      ]
    },
    {
      "cell_type": "code",
      "metadata": {
        "id": "fpM1_b7i3Cnb"
      },
      "source": [
        "\n",
        "def change_edges2(graph):\n",
        "  g=Graph(False)\n",
        "  for i in range(len(graph.edges)):\n",
        "    start=graph.edges[i][0].__str__()[-3:]\n",
        "    end=graph.edges[i][1].__str__()[-3:]\n",
        "    if start[0]==end[0]:\n",
        "      if stack[start[0]]!=[]:\n",
        "        tup=graph.edges[i]\n",
        "        id1=vertex_ids[start]\n",
        "        id2=vertex_ids[end]\n",
        "\n",
        "        g.add_edge(id1,start,id2,end,float('inf'))\n",
        "      else:\n",
        "        tup=graph.edges[i]\n",
        "        id1=vertex_ids[start]\n",
        "        id2=vertex_ids[end]\n",
        "        g.add_edge(id1,start,id2,end,tup[2])\n",
        "\n",
        "\n",
        "    else:\n",
        "      tup=graph.edges[i]\n",
        "      id1=vertex_ids[start]\n",
        "      id2=vertex_ids[end]\n",
        "      g.add_edge(id1,start,id2,end,tup[2])\n",
        "\n",
        "\n",
        "        \n",
        "  return g\n",
        "  "
      ],
      "execution_count": null,
      "outputs": []
    },
    {
      "cell_type": "code",
      "metadata": {
        "id": "L9X-mWKP_-mz"
      },
      "source": [
        "def change_overlapping_edges(graph,vertices):\n",
        "  g=Graph(False)\n",
        "  for i in range(len(graph.edges)):\n",
        "    start=graph.edges[i][0].__str__()[-3:]\n",
        "    end=graph.edges[i][1].__str__()[-3:]\n",
        "    if start[0]==end[0]:\n",
        "      if start[0] in vertices:\n",
        "        id1=vertex_ids[start]\n",
        "        id2=vertex_ids[end]\n",
        "        g.add_edge(id1,start,id2,end,float('inf'))\n",
        "      else:\n",
        "        tup=graph.edges[i]\n",
        "        id1=vertex_ids[start]\n",
        "        id2=vertex_ids[end]\n",
        "        g.add_edge(id1,start,id2,end,tup[2])\n",
        "\n",
        "    else:\n",
        "        tup=graph.edges[i]\n",
        "        id1=vertex_ids[start]\n",
        "        id2=vertex_ids[end]\n",
        "        g.add_edge(id1,start,id2,end,tup[2])\n",
        "\n",
        "\n",
        "    \n",
        "\n",
        "        \n",
        "  return g\n",
        "  \n"
      ],
      "execution_count": null,
      "outputs": []
    },
    {
      "cell_type": "code",
      "metadata": {
        "id": "Q8FytjIyID5E"
      },
      "source": [
        "free_edges_and_weights=set()\n",
        "non_free_edges_and_weights=set()\n",
        "\n",
        "free_edges_and_weights_hash=dict()\n",
        "non_free_edges_and_weights_hash=dict()\n",
        "\n",
        "\n",
        "for i in graph.edges:\n",
        "  a,b,w=i[0].__str__(),i[1].__str__(),i[2]\n",
        "  if (a,b) in free_edges:\n",
        "    free_edges_and_weights.add((a,b,w))\n",
        "    free_edges_and_weights.add((b,a,w))\n",
        "    free_edges_and_weights_hash[(a,b)]=(a,b,w)\n",
        "    free_edges_and_weights_hash[(b,a)]=(b,a,w)\n",
        "  elif (a,b) in non_free_edges:\n",
        "    non_free_edges_and_weights.add((a,b,w))\n",
        "    non_free_edges_and_weights.add((b,a,w))\n",
        "    non_free_edges_and_weights_hash[(a,b)]=(a,b,w)\n",
        "    non_free_edges_and_weights_hash[(b,a)]=(b,a,w)\n",
        "\n"
      ],
      "execution_count": null,
      "outputs": []
    },
    {
      "cell_type": "code",
      "metadata": {
        "id": "pMad1D5t1jN7"
      },
      "source": [
        "\n",
        "def calculate_time(weight):\n",
        "  speed=4\n",
        "  return (weight/speed) "
      ],
      "execution_count": null,
      "outputs": []
    },
    {
      "cell_type": "code",
      "metadata": {
        "id": "1Xjh5oWG9rrs"
      },
      "source": [
        "def conflict_time_intervals(vertex,interval):\n",
        "  for i in range(len(overlapping_dict[vertex])):\n",
        "    interval_2=overlapping_dict[vertex][i]\n",
        "    if interval[0]<=interval_2[1] and interval[1]>=interval_2[0]:\n",
        "      return True\n",
        "  return False"
      ],
      "execution_count": null,
      "outputs": []
    },
    {
      "cell_type": "code",
      "metadata": {
        "id": "-sm8d6LK__PT"
      },
      "source": [
        "\n",
        "def compute_time_intervals(dist,path):\n",
        "  time_intervals=[]\n",
        "  current_time=datetime.datetime.now()\n",
        "  curr_weight=0\n",
        "  for i in range(1,len(path)):\n",
        "    edge_weight=distance[path[i]]\n",
        "    time_taken=calculate_time(edge_weight-curr_weight)\n",
        "    curr_weight=edge_weight\n",
        "    time_intervals.append((current_time,current_time+timedelta(minutes=time_taken)))\n",
        "    current_time=current_time+timedelta(seconds=time_taken)\n",
        "  return time_intervals"
      ],
      "execution_count": null,
      "outputs": []
    },
    {
      "cell_type": "code",
      "metadata": {
        "id": "gwd8AmsIAcC1"
      },
      "source": [
        "def update_overlapping_dict(time_intervals,path):\n",
        "  for i in range(len(path)-1):\n",
        "    tup=(path[i],path[i+1])\n",
        "    if tup not in free_edges:\n",
        "      #print(tup)\n",
        "      vertex_1=path[i][-3:]\n",
        "      vert_1=vertex_1[0]\n",
        "      \n",
        "      overlapping_dict[vert_1].append(time_intervals[i])\n",
        "      \n"
      ],
      "execution_count": null,
      "outputs": []
    },
    {
      "cell_type": "code",
      "metadata": {
        "id": "Vvun2gmu6INT"
      },
      "source": [
        "def destination_overlapping_check(destination_tuple,vert_3,destination_interval):\n",
        "  check=conflict_time_intervals(vert_3,destination_interval)\n",
        "  if(check):\n",
        "    print('Another forklift has to pass throught the Aisle.')\n",
        "    wait_time=0\n",
        "    for i in overlapping_dict:\n",
        "      if vert_3==i:\n",
        "        wait_time=overlapping_dict[i][-1][1]\n",
        "\n",
        "    print(\"Get to\",destination_tuple[0],\"and wait till\",wait_time)\n",
        "    return True\n",
        "  else:\n",
        "    return False\n"
      ],
      "execution_count": null,
      "outputs": []
    },
    {
      "cell_type": "code",
      "metadata": {
        "id": "sUwDYXg63oOG"
      },
      "source": [
        "\n",
        "def path_cost2(new_location,start_pos,graph):\n",
        "  temp=new_location[2]\n",
        "  flag=1\n",
        "  if (ord(temp)<=57) and (ord(temp)>=48):\n",
        "    flag=0\n",
        "  num=0\n",
        "  if flag==0:\n",
        "    num=int(new_location[1:3])\n",
        "  else:\n",
        "    num=int(new_location[1:2])\n",
        "\n",
        "  id_1=vertex_ids[start_pos[-3:]]\n",
        "  #start_pos=\"S_1\"\n",
        "  graph=change_edges2(graph)\n",
        "  \n",
        "  distance,parent= shortest_path(graph, graph.all_vertex[id_1])\n",
        "  aisle=new_location[0]\n",
        "  stack[aisle].remove(num)\n",
        "  #print(distance)\n",
        "  #print(parent)\n",
        "  #print(\"stack aisle lis\",stack[aisle])\n",
        "\n",
        "\n",
        "  if stack[aisle]==[]:\n",
        "    dist1=distance[\"Vertex-\"+aisle+\"_f\"]\n",
        "    dist2=distance[\"Vertex-\"+aisle+\"_b\"]\n",
        "    dist=min(dist1+num,dist2+100-num)\n",
        "    last_vertex=\"\"\n",
        "    if dist1+num==dist:\n",
        "      last_vertex=\"Vertex-\"+aisle+\"_f\"\n",
        "    else:\n",
        "      last_vertex=\"Vertex-\"+aisle+\"_b\"\n",
        "\n",
        "    lis=[num]\n",
        "    stack[aisle]=lis\n",
        "    #print(last_vertex)\n",
        "    print(\"The Distance to be travelled is {a}\".format(a=dist))\n",
        "    path=[]\n",
        "    path.insert(0,last_vertex)\n",
        "    while(True):\n",
        "      if parent[last_vertex]==\"None\":\n",
        "        break\n",
        "      path.insert(0,parent[last_vertex])\n",
        "      last_vertex=parent[last_vertex]\n",
        "    path.append(path[-1]+\"--->\"+new_location)\n",
        "    print(\"Path is \",path)\n",
        "\n",
        "    return dist,path\n",
        "  lis=stack[aisle]\n",
        "  \n",
        "  if num>=lis[0] and num<=lis[-1]:\n",
        "    return float('inf'),\"Not Possible at the moment\"\n",
        "\n",
        "  elif num<lis[0]:\n",
        "    lis=stack[aisle]\n",
        "    lis.append(num)\n",
        "    lis.sort()\n",
        "    stack[aisle]=lis\n",
        "  \n",
        "    dist1=distance[\"Vertex-\"+aisle+\"_f\"]\n",
        "    dist=dist1+num\n",
        "    last_vertex=\"\"\n",
        "    last_vertex=\"Vertex-\"+aisle+\"_f\"\n",
        "    print(\"The Distance to be travelled is {a}\".format(a=dist))\n",
        "    path=[]\n",
        "    path.insert(0,last_vertex)\n",
        "    while(True):\n",
        "      if parent[last_vertex]==\"None\":\n",
        "        break\n",
        "      path.insert(0,parent[last_vertex])\n",
        "      last_vertex=parent[last_vertex]\n",
        "    path.append(path[-1]+\"--->\"+new_location)\n",
        "    print(\"Path is \",path)\n",
        "    \n",
        "    return dist,path\n",
        "\n",
        "  elif num>lis[-1]:\n",
        "    lis=stack[aisle]\n",
        "    lis.append(num)\n",
        "    lis.sort()\n",
        "    stack[aisle]=lis\n",
        "  \n",
        "    dist2=distance[\"Vertex-\"+aisle+\"_b\"]\n",
        "    dist=dist2+100-num\n",
        "    last_vertex=\"\"\n",
        "    last_vertex=\"Vertex-\"+aisle+\"_b\"\n",
        "\n",
        "\n",
        "    print(\"The Distance to be travelled is {a}\".format(a=dist))\n",
        "    path=[]\n",
        "    path.insert(0,last_vertex)\n",
        "    while(True):\n",
        "      if parent[last_vertex]==\"None\":\n",
        "        break\n",
        "      path.insert(0,parent[last_vertex])\n",
        "      last_vertex=parent[last_vertex]\n",
        "    path.append(path[-1]+\"--->\"+new_location)\n",
        "    print(\"Path is \",path)\n",
        "\n",
        "    return dist,path\n",
        "  \n",
        "    "
      ],
      "execution_count": null,
      "outputs": []
    },
    {
      "cell_type": "code",
      "metadata": {
        "id": "I9nkdB1KJ72B"
      },
      "source": [
        "import datetime\n",
        "from datetime import timedelta\n",
        "def check_overlapping(new_location,start_pos,graph,dist,path):\n",
        "  #print(\"In check overlapping\")\n",
        "  #print(dist)\n",
        "  #print(path)\n",
        "  time_intervals=[]\n",
        "  current_time=datetime.datetime.now()\n",
        "  curr_weight=0\n",
        "  for i in range(1,len(path)):\n",
        "    edge_weight=distance[path[i]]\n",
        "    time_taken=calculate_time(edge_weight-curr_weight)\n",
        "    curr_weight=edge_weight\n",
        "\n",
        "    time_intervals.append((current_time,current_time+timedelta(minutes=time_taken)))\n",
        "    current_time=current_time+timedelta(seconds=time_taken)\n",
        "  #print(time_intervals)\n",
        "  \n",
        "\n",
        "\n",
        "  vert_3=path[-1][-3:][0]\n",
        "  if path[-1][-3:][-1]==\"f\":\n",
        "    destination_tuple=(path[-1],\"Vertex-\"+vert_3+\"_\"+\"b\")\n",
        "  else:\n",
        "    destination_tuple=(path[-1],\"Vertex-\"+vert_3+\"_\"+\"f\")\n",
        "  for i in graph.edges:\n",
        "    \n",
        "    if (i[0].__str__(),i[1].__str__())==destination_tuple or (i[1].__str__(),i[0].__str__())==destination_tuple:\n",
        "      destination_weight=i[2]\n",
        "  dest_time=calculate_time(destination_weight)\n",
        "  if dest_time!=float('inf'):\n",
        "    destination_interval=(time_intervals[-1][1],time_intervals[-1][1]+timedelta(minutes=dest_time))\n",
        "\n",
        "    \n",
        "  conflicting_aisles=set()\n",
        "  for i in range(len(path)-1):\n",
        "    tup=(path[i],path[i+1])\n",
        "    if tup not in free_edges:\n",
        "      vertex_1=path[i][-3:]\n",
        "      vert_1=vertex_1[0]\n",
        "      if (overlapping_dict[vert_1]==[]):\n",
        "        overlapping_dict[vert_1].append(time_intervals[i])\n",
        "        if dest_time!=float('inf'):\n",
        "          dest_check=destination_overlapping_check(destination_tuple,vert_3,destination_interval)\n",
        "        return dist,path,False\n",
        "      elif not (conflict_time_intervals(vert_1,time_intervals[i])):\n",
        "        overloverlapping_dict[vert_1].append(time_intervals[i])\n",
        "        if dest_time!=float('inf'):\n",
        "          dest_check=destination_overlapping_check(destination_tuple,vert_3,destination_interval)\n",
        "        \n",
        "        return dist,path,False\n",
        "      elif (conflict_time_intervals(vert_1,time_intervals[i])):\n",
        "        conflicting_aisles.add(vert_1)\n",
        "  \n",
        "  #print(conflicting_aisles)    \n",
        "  if (len(conflicting_aisles)>0):    \n",
        "    g=change_overlapping_edges(graph,conflicting_aisles)\n",
        "    #print(g.edges)\n",
        "    dist,path=path_cost2(new_location,start_pos,g)\n",
        "    n_4=len(path)-1\n",
        "    time_intervals=compute_time_intervals(dist,path[:n_4])\n",
        "    #print(overlapping_dict)\n",
        "    update_overlapping_dict(time_intervals,path[:n_4])\n",
        "    #print(overlapping_dict)\n",
        "    if dest_time!=float('inf'):\n",
        "      dest_check=destination_overlapping_check(destination_tuple,vert_3,destination_interval)\n",
        "        \n",
        "    return dist,path,True\n",
        "\n",
        "  if dest_time!=float('inf'):\n",
        "      dest_check=destination_overlapping_check(destination_tuple,vert_3,destination_interval)\n",
        "          \n",
        "  \n",
        "\n",
        "  return dist,path,False"
      ],
      "execution_count": null,
      "outputs": []
    },
    {
      "cell_type": "code",
      "metadata": {
        "id": "jOptZeWOHziY"
      },
      "source": [
        "\n",
        "\n",
        "def path_cost(new_location,start_pos,graph):\n",
        "  temp=new_location[2]\n",
        "  flag=1\n",
        "  if (ord(temp)<=57) and (ord(temp)>=48):\n",
        "    flag=0\n",
        "  num=0\n",
        "  if flag==0:\n",
        "    num=int(new_location[1:3])\n",
        "  else:\n",
        "    num=int(new_location[1:2])\n",
        "\n",
        "  id_1=vertex_ids[start_pos[-3:]]\n",
        "  #start_pos=\"S_1\"\n",
        "  graph=change_edges2(graph)\n",
        "  \n",
        "  distance,parent= shortest_path(graph, graph.all_vertex[id_1])\n",
        "  aisle=new_location[0]\n",
        "\n",
        "\n",
        "  \n",
        "\n",
        "  if stack[aisle]==[]:\n",
        "    dist1=distance[\"Vertex-\"+aisle+\"_f\"]\n",
        "    dist2=distance[\"Vertex-\"+aisle+\"_b\"]\n",
        "    dist=min(dist1+num,dist2+100-num)\n",
        "    last_vertex=\"\"\n",
        "    if dist1+num==dist:\n",
        "      last_vertex=\"Vertex-\"+aisle+\"_f\"\n",
        "    else:\n",
        "      last_vertex=\"Vertex-\"+aisle+\"_b\"\n",
        "\n",
        "    lis=[num]\n",
        "    stack[aisle]=lis\n",
        "    #print(last_vertex)\n",
        "    print(\"The Distance to be travelled is {a}\".format(a=dist))\n",
        "    path=[]\n",
        "    path.insert(0,last_vertex)\n",
        "    while(True):\n",
        "      if parent[last_vertex]==\"None\":\n",
        "        break\n",
        "      path.insert(0,parent[last_vertex])\n",
        "      last_vertex=parent[last_vertex]\n",
        "    path.append(path[-1]+\"--->\"+new_location)\n",
        "    print(\"Path is \",path)\n",
        "\n",
        "    #Checking overlaps\n",
        "    #print(\"Overlapping ---\")\n",
        "    n_3=len(path)-1\n",
        "\n",
        "    \n",
        "\n",
        "\n",
        "    dist_1,path_1,flag=check_overlapping(new_location,start_pos,graph,distance,path[:n_3])\n",
        "    #print(dist_1)\n",
        "    #print(path_1)\n",
        "    #print(\"End ----\")\n",
        "    if flag:\n",
        "      return dist_1,path_1\n",
        "    return dist,path\n",
        "    #return dist,path\n",
        "  lis=stack[aisle]\n",
        "  \n",
        "  if num>=lis[0] and num<=lis[-1]:\n",
        "    return float('inf'),\"Not Possible at the moment\"\n",
        "\n",
        "  elif num<lis[0]:\n",
        "    lis=stack[aisle]\n",
        "    lis.append(num)\n",
        "    lis.sort()\n",
        "    stack[aisle]=lis\n",
        "  \n",
        "    dist1=distance[\"Vertex-\"+aisle+\"_f\"]\n",
        "    dist=dist1+num\n",
        "    last_vertex=\"\"\n",
        "    last_vertex=\"Vertex-\"+aisle+\"_f\"\n",
        "    print(\"The Distance to be travelled is {a}\".format(a=dist))\n",
        "    path=[]\n",
        "    path.insert(0,last_vertex)\n",
        "    while(True):\n",
        "      if parent[last_vertex]==\"None\":\n",
        "        break\n",
        "      path.insert(0,parent[last_vertex])\n",
        "      last_vertex=parent[last_vertex]\n",
        "    path.append(path[-1]+\"--->\"+new_location)\n",
        "    print(\"Path is \",path)\n",
        "    \n",
        "    #Checking overlaps\n",
        "    #print(\"Overlapping ---\")\n",
        "    \n",
        "    n_3=len(path)-1\n",
        "\n",
        "\n",
        "    \n",
        "\n",
        "    dist_1,path_1,flag=check_overlapping(new_location,start_pos,graph,distance,path[:n_3])\n",
        "    #print(dist_1)\n",
        "    #print(path_1)\n",
        "    #print(\"End ----\")\n",
        "    if flag:\n",
        "      return dist_1,path_1\n",
        "    return dist,path\n",
        "    #return dist,path\n",
        "\n",
        "  elif num>lis[-1]:\n",
        "    lis=stack[aisle]\n",
        "    lis.append(num)\n",
        "    lis.sort()\n",
        "    stack[aisle]=lis\n",
        "  \n",
        "    dist2=distance[\"Vertex-\"+aisle+\"_b\"]\n",
        "    dist=dist2+100-num\n",
        "    last_vertex=\"\"\n",
        "    last_vertex=\"Vertex-\"+aisle+\"_b\"\n",
        "\n",
        "\n",
        "    print(\"The Distance to be travelled is {a}\".format(a=dist))\n",
        "    path=[]\n",
        "    path.insert(0,last_vertex)\n",
        "    while(True):\n",
        "      if parent[last_vertex]==\"None\":\n",
        "        break\n",
        "      path.insert(0,parent[last_vertex])\n",
        "      last_vertex=parent[last_vertex]\n",
        "    path.append(path[-1]+\"--->\"+new_location)\n",
        "    print(\"Path is \",path)\n",
        "\n",
        "    #Checking overlaps\n",
        "    #print(\"Overlapping ---\")\n",
        "    \n",
        "    n_3=len(path)-1\n",
        "\n",
        "\n",
        "    \n",
        "\n",
        "\n",
        "    dist_1,path_1,flag=check_overlapping(new_location,start_pos,graph,distance,path[:n_3])\n",
        "    #print(dist_1)\n",
        "    #print(path_1)\n",
        "    #print(\"End ----\")\n",
        "    if flag:\n",
        "      return dist_1,path_1\n",
        "    return dist,path\n",
        "    \n",
        "    #return dist,path\n",
        "  \n",
        "    \n",
        "\n",
        "    \n",
        "\n",
        "\n"
      ],
      "execution_count": null,
      "outputs": []
    },
    {
      "cell_type": "code",
      "metadata": {
        "id": "aeC8t-dHIMV0"
      },
      "source": [
        "def get_path_from_present_location(present_location,forklift_name,graph,dest_location):\n",
        "  #present_location[\"forklift_1\"]=\"Vertex-S_1\"\n",
        "  \n",
        "  if(len(present_location[forklift_name])<9):\n",
        "    new_location=present_location[forklift_name]\n",
        "    temp=present_location[forklift_name][2]\n",
        "    flag=1\n",
        "    if (ord(temp)<=57) and (ord(temp)>=48):\n",
        "      flag=0\n",
        "    num=0\n",
        "    if flag==0:\n",
        "      num=int(new_location[1:3])\n",
        "    else:\n",
        "      num=int(new_location[1:2])\n",
        "    aisle=new_location[0]\n",
        "    if stack[aisle]!=[]:\n",
        "      lis=stack[aisle]\n",
        "  \n",
        "      if num>lis[0] and num<lis[-1]:\n",
        "        return float('inf'),\"Not Possible at the moment\"\n",
        "      elif num<=lis[0]:\n",
        "        lis=stack[aisle]\n",
        "        lis.remove(num)\n",
        "        stack[aisle]=lis\n",
        "      \n",
        "        present_location[forklift_name]=\"Vertex-\"+aisle+\"_f\"\n",
        "        \n",
        "      elif num>=lis[-1]:\n",
        "        lis=stack[aisle]\n",
        "        lis.remove(num)\n",
        "        stack[aisle]=lis\n",
        "      \n",
        "        present_location[forklift_name]=\"Vertex-\"+aisle+\"_b\"\n",
        "\n",
        "  distance,parent= shortest_path(graph, graph.all_vertex[ids[forklift_name]])\n",
        "  #dest_location=\"A60C\"\n",
        "  dist,paths=path_cost(dest_location,present_location[forklift_name],graph)\n",
        "  edge=\"\"\n",
        "  for i in graph.edges:\n",
        "    ind0=i[0].__str__()\n",
        "    ind1=i[1].__str__()\n",
        "    if(ind0==paths[0] and ind1==paths[1]) or (ind1==paths[0] and ind0==paths[1]):\n",
        "      edge=(ind0,ind1,i[2])\n",
        "  return dist,paths\n"
      ],
      "execution_count": null,
      "outputs": []
    },
    {
      "cell_type": "code",
      "metadata": {
        "id": "wqg4KQA4ITQY"
      },
      "source": [
        "\n",
        "import datetime\n",
        "\n",
        "def calculate_time_difference(time1,time2):\n",
        "  fmt = '%Y-%m-%d %H:%M:%S'\n",
        "  tstamp1 = datetime.datetime.strptime(time1, fmt)\n",
        "  tstamp2 = datetime.datetime.strptime(time2, fmt)\n",
        "\n",
        "  if tstamp1 > tstamp2:\n",
        "      td = tstamp1 - tstamp2\n",
        "  else:\n",
        "      td = tstamp2 - tstamp1\n",
        "  td_mins = int(round(td.total_seconds() / 60))\n",
        "\n",
        "  return td_mins"
      ],
      "execution_count": null,
      "outputs": []
    },
    {
      "cell_type": "code",
      "metadata": {
        "colab": {
          "base_uri": "https://localhost:8080/"
        },
        "id": "GN_zGa9VoF_R",
        "outputId": "bcad7999-6941-4b7f-8855-911fc847171c"
      },
      "source": [
        "print(stack)"
      ],
      "execution_count": null,
      "outputs": [
        {
          "output_type": "stream",
          "text": [
            "defaultdict(<class 'list'>, {'A': []})\n"
          ],
          "name": "stdout"
        }
      ]
    },
    {
      "cell_type": "code",
      "metadata": {
        "colab": {
          "base_uri": "https://localhost:8080/"
        },
        "id": "nvEVczFTIXHm",
        "outputId": "b9ea4572-9730-4df0-b33d-2999fda7c488"
      },
      "source": [
        "present_location={}\n",
        "ids={}\n",
        "dist={}\n",
        "paths={}\n",
        "forklift_name=\"forklift_1\"\n",
        "\n",
        "present_location[\"forklift_1\"]=\"Vertex-S_1\"\n",
        "  \n",
        "for key,value in graph.all_vertex.items():\n",
        "  val=value.__str__()\n",
        "  if val==present_location[forklift_name]:\n",
        "    ids[forklift_name]=key\n",
        "\n",
        "dist_,path_=get_path_from_present_location(present_location,forklift_name,graph,\"D60C\")\n",
        "edges=[]\n",
        "print(path_)\n",
        "\n",
        "dist[forklift_name]=dist_\n",
        "paths[forklift_name]=path_\n",
        "\n"
      ],
      "execution_count": null,
      "outputs": [
        {
          "output_type": "stream",
          "text": [
            "The Distance to be travelled is 88\n",
            "Path is  ['Vertex-S_1', 'Vertex-A_f', 'Vertex-B_f', 'Vertex-C_f', 'Vertex-D_f', 'Vertex-D_f--->D60C']\n",
            "['Vertex-S_1', 'Vertex-A_f', 'Vertex-B_f', 'Vertex-C_f', 'Vertex-D_f', 'Vertex-D_f--->D60C']\n"
          ],
          "name": "stdout"
        }
      ]
    },
    {
      "cell_type": "code",
      "metadata": {
        "colab": {
          "base_uri": "https://localhost:8080/"
        },
        "id": "njLXFZGsLMZB",
        "outputId": "0c79e270-1e39-4e6e-8a5b-a54a572ffbbf"
      },
      "source": [
        "forklift_name=\"forklift_2\"\n",
        "\n",
        "present_location[\"forklift_2\"]=\"Vertex-S_1\"\n",
        "  \n",
        "for key,value in graph.all_vertex.items():\n",
        "  val=value.__str__()\n",
        "  if val==present_location[forklift_name]:\n",
        "    ids[forklift_name]=key\n",
        "\n",
        "dist_,path_=get_path_from_present_location(present_location,forklift_name,graph,\"D20C\")\n",
        "dist[forklift_name]=dist_\n",
        "print(path_)\n",
        "paths[forklift_name]=path_\n",
        "\n",
        "edges=[]\n",
        "print(path_)\n",
        "dist[forklift_name]=dist_\n",
        "paths[forklift_name]=path_\n",
        "\n"
      ],
      "execution_count": null,
      "outputs": [
        {
          "output_type": "stream",
          "text": [
            "The Distance to be travelled is 48\n",
            "Path is  ['Vertex-S_1', 'Vertex-A_f', 'Vertex-B_f', 'Vertex-C_f', 'Vertex-D_f', 'Vertex-D_f--->D20C']\n",
            "['Vertex-S_1', 'Vertex-A_f', 'Vertex-B_f', 'Vertex-C_f', 'Vertex-D_f', 'Vertex-D_f--->D20C']\n",
            "['Vertex-S_1', 'Vertex-A_f', 'Vertex-B_f', 'Vertex-C_f', 'Vertex-D_f', 'Vertex-D_f--->D20C']\n"
          ],
          "name": "stdout"
        }
      ]
    },
    {
      "cell_type": "code",
      "metadata": {
        "colab": {
          "base_uri": "https://localhost:8080/"
        },
        "id": "Wl4QfjWJnDLX",
        "outputId": "dfad5873-da33-4488-ffe8-b1329f8792e6"
      },
      "source": [
        "print(overlapping_dict)"
      ],
      "execution_count": null,
      "outputs": [
        {
          "output_type": "stream",
          "text": [
            "defaultdict(<class 'list'>, {'D': []})\n"
          ],
          "name": "stdout"
        }
      ]
    },
    {
      "cell_type": "code",
      "metadata": {
        "id": "dl8ArGcpL0lQ",
        "colab": {
          "base_uri": "https://localhost:8080/"
        },
        "outputId": "4914d2f0-2105-4d18-ded5-945cd5bf0072"
      },
      "source": [
        "forklift_name=\"forklift_3\"\n",
        "\n",
        "present_location[\"forklift_3\"]=\"Vertex-S_1\"\n",
        "  \n",
        "for key,value in graph.all_vertex.items():\n",
        "  val=value.__str__()\n",
        "  if val==present_location[forklift_name]:\n",
        "    ids[forklift_name]=key\n",
        "\n",
        "dist_,path_=get_path_from_present_location(present_location,forklift_name,graph,\"D70C\")\n",
        "dist[forklift_name]=dist_\n",
        "print(path_)\n",
        "paths[forklift_name]=path_\n",
        "\n",
        "edges=[]\n",
        "print(path_)\n",
        "dist[forklift_name]=dist_\n",
        "paths[forklift_name]=path_\n"
      ],
      "execution_count": null,
      "outputs": [
        {
          "output_type": "stream",
          "text": [
            "The Distance to be travelled is 158\n",
            "Path is  ['Vertex-S_1', 'Vertex-A_f', 'Vertex-B_f', 'Vertex-C_f', 'Vertex-C_b', 'Vertex-D_b', 'Vertex-D_b--->D70C']\n",
            "['Vertex-S_1', 'Vertex-A_f', 'Vertex-B_f', 'Vertex-C_f', 'Vertex-C_b', 'Vertex-D_b', 'Vertex-D_b--->D70C']\n",
            "['Vertex-S_1', 'Vertex-A_f', 'Vertex-B_f', 'Vertex-C_f', 'Vertex-C_b', 'Vertex-D_b', 'Vertex-D_b--->D70C']\n"
          ],
          "name": "stdout"
        }
      ]
    },
    {
      "cell_type": "code",
      "metadata": {
        "colab": {
          "base_uri": "https://localhost:8080/"
        },
        "id": "4qHsh-PunPsh",
        "outputId": "9e79f8ad-ef0b-46d9-820e-b03b6b398b8f"
      },
      "source": [
        "print(overlapping_dict)"
      ],
      "execution_count": null,
      "outputs": [
        {
          "output_type": "stream",
          "text": [
            "defaultdict(<class 'list'>, {'D': [], 'C': [(datetime.datetime(2021, 6, 2, 10, 9, 0, 360767), datetime.datetime(2021, 6, 2, 10, 34, 0, 360767))]})\n"
          ],
          "name": "stdout"
        }
      ]
    },
    {
      "cell_type": "code",
      "metadata": {
        "colab": {
          "base_uri": "https://localhost:8080/"
        },
        "id": "JDV-L29TZ_BD",
        "outputId": "3011df96-ebb0-4983-8d2f-71cbabe17b19"
      },
      "source": [
        "forklift_name=\"forklift_4\"\n",
        "\n",
        "present_location[\"forklift_4\"]=\"Vertex-S_1\"\n",
        "  \n",
        "for key,value in graph.all_vertex.items():\n",
        "  val=value.__str__()\n",
        "  if val==present_location[forklift_name]:\n",
        "    ids[forklift_name]=key\n",
        "\n",
        "dist_,path_=get_path_from_present_location(present_location,forklift_name,graph,\"D65C\")\n",
        "dist[forklift_name]=dist_\n",
        "print(path_)\n",
        "paths[forklift_name]=path_\n",
        "\n",
        "edges=[]\n",
        "print(path_)\n",
        "dist[forklift_name]=dist_\n",
        "paths[forklift_name]=path_\n"
      ],
      "execution_count": null,
      "outputs": [
        {
          "output_type": "stream",
          "text": [
            "Not Possible at the moment\n",
            "Not Possible at the moment\n"
          ],
          "name": "stdout"
        }
      ]
    },
    {
      "cell_type": "code",
      "metadata": {
        "colab": {
          "base_uri": "https://localhost:8080/"
        },
        "id": "Ygi_KzwKaJII",
        "outputId": "9f93443f-fb48-43b5-c155-66daa2dba1fe"
      },
      "source": [
        "forklift_name=\"forklift_5\"\n",
        "\n",
        "present_location[\"forklift_5\"]=\"Vertex-S_1\"\n",
        "  \n",
        "for key,value in graph.all_vertex.items():\n",
        "  val=value.__str__()\n",
        "  if val==present_location[forklift_name]:\n",
        "    ids[forklift_name]=key\n",
        "\n",
        "dist_,path_=get_path_from_present_location(present_location,forklift_name,graph,\"H20C\")\n",
        "dist[forklift_name]=dist_\n",
        "print(path_)\n",
        "paths[forklift_name]=path_\n",
        "\n",
        "edges=[]\n",
        "print(path_)\n",
        "dist[forklift_name]=dist_\n",
        "paths[forklift_name]=path_\n"
      ],
      "execution_count": null,
      "outputs": [
        {
          "output_type": "stream",
          "text": [
            "The Distance to be travelled is 152\n",
            "Path is  ['Vertex-S_1', 'Vertex-A_f', 'Vertex-B_f', 'Vertex-C_f', 'Vertex-C_b', 'Vertex-H_f', 'Vertex-H_f--->H20C']\n",
            "The Distance to be travelled is 152\n",
            "Path is  ['Vertex-S_1', 'Vertex-A_f', 'Vertex-B_f', 'Vertex-B_b', 'Vertex-C_b', 'Vertex-H_f', 'Vertex-H_f--->H20C']\n",
            "['Vertex-S_1', 'Vertex-A_f', 'Vertex-B_f', 'Vertex-B_b', 'Vertex-C_b', 'Vertex-H_f', 'Vertex-H_f--->H20C']\n",
            "['Vertex-S_1', 'Vertex-A_f', 'Vertex-B_f', 'Vertex-B_b', 'Vertex-C_b', 'Vertex-H_f', 'Vertex-H_f--->H20C']\n"
          ],
          "name": "stdout"
        }
      ]
    },
    {
      "cell_type": "code",
      "metadata": {
        "colab": {
          "base_uri": "https://localhost:8080/"
        },
        "id": "RlA6vMkdnV4a",
        "outputId": "8b7cbf7e-7ea2-4f43-cf00-76f91a7ca664"
      },
      "source": [
        "print(overlapping_dict)"
      ],
      "execution_count": null,
      "outputs": [
        {
          "output_type": "stream",
          "text": [
            "defaultdict(<class 'list'>, {'D': [], 'C': [(datetime.datetime(2021, 6, 4, 8, 9, 27, 645953), datetime.datetime(2021, 6, 4, 8, 34, 27, 645953))], 'B': [(datetime.datetime(2021, 6, 4, 8, 9, 40, 126180), datetime.datetime(2021, 6, 4, 8, 34, 40, 126180))], 'H': []})\n"
          ],
          "name": "stdout"
        }
      ]
    },
    {
      "cell_type": "code",
      "metadata": {
        "colab": {
          "base_uri": "https://localhost:8080/"
        },
        "id": "QwqKY7S9i8ii",
        "outputId": "83a93b8b-3082-40a4-d034-31c8bb3087ed"
      },
      "source": [
        "forklift_name=\"forklift_5\"\n",
        "\n",
        "present_location[\"forklift_5\"]=\"Vertex-S_1\"\n",
        "  \n",
        "for key,value in graph.all_vertex.items():\n",
        "  val=value.__str__()\n",
        "  if val==present_location[forklift_name]:\n",
        "    ids[forklift_name]=key\n",
        "\n",
        "dist_,path_=get_path_from_present_location(present_location,forklift_name,graph,\"C20C\")\n",
        "dist[forklift_name]=dist_\n",
        "print(path_)\n",
        "paths[forklift_name]=path_\n",
        "\n",
        "edges=[]\n",
        "print(path_)\n",
        "dist[forklift_name]=dist_\n",
        "paths[forklift_name]=path_\n"
      ],
      "execution_count": null,
      "outputs": [
        {
          "output_type": "stream",
          "text": [
            "The Distance to be travelled is 40\n",
            "Path is  ['Vertex-S_1', 'Vertex-A_f', 'Vertex-B_f', 'Vertex-C_f', 'Vertex-C_f--->C20C']\n",
            "Another forklift has to pass throught the Aisle.\n",
            "Get to Vertex-C_f and wait till 2021-06-07 05:14:16.818769\n",
            "['Vertex-S_1', 'Vertex-A_f', 'Vertex-B_f', 'Vertex-C_f', 'Vertex-C_f--->C20C']\n",
            "['Vertex-S_1', 'Vertex-A_f', 'Vertex-B_f', 'Vertex-C_f', 'Vertex-C_f--->C20C']\n"
          ],
          "name": "stdout"
        }
      ]
    },
    {
      "cell_type": "code",
      "metadata": {
        "colab": {
          "base_uri": "https://localhost:8080/"
        },
        "id": "jayQ5lx3jGKq",
        "outputId": "ab5c8c38-6b4b-46ec-8870-f0a86b7a5986"
      },
      "source": [
        "forklift_name=\"forklift_7\"\n",
        "\n",
        "present_location[\"forklift_7\"]=\"Vertex-S_1\"\n",
        "  \n",
        "for key,value in graph.all_vertex.items():\n",
        "  val=value.__str__()\n",
        "  if val==present_location[forklift_name]:\n",
        "    ids[forklift_name]=key\n",
        "\n",
        "dist_,path_=get_path_from_present_location(present_location,forklift_name,graph,\"C56C\")\n",
        "dist[forklift_name]=dist_\n",
        "print(path_)\n",
        "paths[forklift_name]=path_\n",
        "\n",
        "edges=[]\n",
        "print(path_)\n",
        "dist[forklift_name]=dist_\n",
        "paths[forklift_name]=path_\n"
      ],
      "execution_count": null,
      "outputs": [
        {
          "output_type": "stream",
          "text": [
            "Not Possible at the moment\n",
            "Not Possible at the moment\n"
          ],
          "name": "stdout"
        }
      ]
    },
    {
      "cell_type": "code",
      "metadata": {
        "colab": {
          "base_uri": "https://localhost:8080/"
        },
        "id": "Dk7FS_FcaPVW",
        "outputId": "3a9dc63c-3fbb-458c-abab-39a6ae15c74a"
      },
      "source": [
        "forklift_name=\"forklift_3\"\n",
        "\n",
        "present_location[\"forklift_3\"]=\"D70C\"\n",
        "  \n",
        "for key,value in graph.all_vertex.items():\n",
        "  val=value.__str__()\n",
        "  if val==present_location[forklift_name]:\n",
        "    ids[forklift_name]=key\n",
        "\n",
        "dist_,path_=get_path_from_present_location(present_location,forklift_name,graph,\"H30C\")\n",
        "dist[forklift_name]=dist_\n",
        "print(path_)\n",
        "paths[forklift_name]=path_\n",
        "\n",
        "edges=[]\n",
        "print(path_)\n",
        "dist[forklift_name]=dist_\n",
        "paths[forklift_name]=path_\n"
      ],
      "execution_count": null,
      "outputs": [
        {
          "output_type": "stream",
          "text": [
            "The Distance to be travelled is 190\n",
            "Path is  ['Vertex-D_b', 'Vertex-I_f', 'Vertex-I_b', 'Vertex-H_b', 'Vertex-H_b--->H30C']\n",
            "['Vertex-D_b', 'Vertex-I_f', 'Vertex-I_b', 'Vertex-H_b', 'Vertex-H_b--->H30C']\n",
            "['Vertex-D_b', 'Vertex-I_f', 'Vertex-I_b', 'Vertex-H_b', 'Vertex-H_b--->H30C']\n"
          ],
          "name": "stdout"
        }
      ]
    },
    {
      "cell_type": "code",
      "metadata": {
        "colab": {
          "base_uri": "https://localhost:8080/"
        },
        "id": "eMv13Ynaabsz",
        "outputId": "81b6225c-c96a-4d80-ebd6-7e08b2c4b2e7"
      },
      "source": [
        "forklift_name=\"forklift_2\"\n",
        "\n",
        "present_location[\"forklift_2\"]=\"Vertex-S_1\"\n",
        "  \n",
        "for key,value in graph.all_vertex.items():\n",
        "  val=value.__str__()\n",
        "  if val==present_location[forklift_name]:\n",
        "    ids[forklift_name]=key\n",
        "\n",
        "dist_,path_=get_path_from_present_location(present_location,forklift_name,graph,\"G20C\")\n",
        "dist[forklift_name]=dist_\n",
        "print(path_)\n",
        "paths[forklift_name]=path_\n",
        "\n",
        "edges=[]\n",
        "print(path_)\n",
        "dist[forklift_name]=dist_\n",
        "paths[forklift_name]=path_\n"
      ],
      "execution_count": null,
      "outputs": [
        {
          "output_type": "stream",
          "text": [
            "The Distance to be travelled is 144\n",
            "Path is  ['Vertex-S_1', 'Vertex-A_f', 'Vertex-B_f', 'Vertex-B_b', 'Vertex-G_f', 'Vertex-G_f--->G20C']\n",
            "In check overlapping\n",
            "{'Vertex-S_1': 0, 'Vertex-A_f': 4, 'Vertex-B_f': 12, 'Vertex-C_f': 20, 'Vertex-D_f': 28, 'Vertex-E_f': 36, 'Vertex-S_2': 40, 'Vertex-A_b': 104, 'Vertex-B_b': 112, 'Vertex-F_f': 116, 'Vertex-C_b': 120, 'Vertex-G_f': 124, 'Vertex-D_b': 128, 'Vertex-H_f': 132, 'Vertex-E_b': 136, 'Vertex-I_f': 140, 'Vertex-J_f': 148, 'Vertex-J_b': 212, 'Vertex-F_b': 216, 'Vertex-I_b': 220, 'Vertex-G_b': 224, 'Vertex-H_b': 228}\n",
            "['Vertex-S_1', 'Vertex-A_f', 'Vertex-B_f', 'Vertex-B_b', 'Vertex-G_f']\n",
            "[(datetime.datetime(2021, 5, 31, 20, 22, 35, 87103), datetime.datetime(2021, 5, 31, 20, 22, 36, 87103)), (datetime.datetime(2021, 5, 31, 20, 22, 36, 87103), datetime.datetime(2021, 5, 31, 20, 22, 38, 87103)), (datetime.datetime(2021, 5, 31, 20, 22, 38, 87103), datetime.datetime(2021, 5, 31, 20, 23, 3, 87103)), (datetime.datetime(2021, 5, 31, 20, 23, 3, 87103), datetime.datetime(2021, 5, 31, 20, 23, 6, 87103))]\n",
            "['Vertex-S_1', 'Vertex-A_f', 'Vertex-B_f', 'Vertex-B_b', 'Vertex-G_f', 'Vertex-G_f--->G20C']\n",
            "['Vertex-S_1', 'Vertex-A_f', 'Vertex-B_f', 'Vertex-B_b', 'Vertex-G_f', 'Vertex-G_f--->G20C']\n"
          ],
          "name": "stdout"
        }
      ]
    },
    {
      "cell_type": "code",
      "metadata": {
        "colab": {
          "base_uri": "https://localhost:8080/"
        },
        "id": "Ii9nlzdnalgV",
        "outputId": "76ef735e-3785-4b4f-f604-d4f11c72d98d"
      },
      "source": [
        "forklift_name=\"forklift_4\"\n",
        "\n",
        "present_location[\"forklift_4\"]=\"Vertex-S_1\"\n",
        "  \n",
        "for key,value in graph.all_vertex.items():\n",
        "  val=value.__str__()\n",
        "  if val==present_location[forklift_name]:\n",
        "    ids[forklift_name]=key\n",
        "\n",
        "dist_,path_=get_path_from_present_location(present_location,forklift_name,graph,\"D65C\")\n",
        "dist[forklift_name]=dist_\n",
        "print(path_)\n",
        "paths[forklift_name]=path_\n",
        "\n",
        "edges=[]\n",
        "print(path_)\n",
        "dist[forklift_name]=dist_\n",
        "paths[forklift_name]=path_\n"
      ],
      "execution_count": null,
      "outputs": [
        {
          "output_type": "stream",
          "text": [
            "The Distance to be travelled is 163\n",
            "Path is  ['Vertex-S_1', 'Vertex-A_f', 'Vertex-B_f', 'Vertex-C_f', 'Vertex-C_b', 'Vertex-D_b', 'Vertex-D_b--->D65C']\n",
            "['Vertex-S_1', 'Vertex-A_f', 'Vertex-B_f', 'Vertex-C_f', 'Vertex-C_b', 'Vertex-D_b', 'Vertex-D_b--->D65C']\n",
            "['Vertex-S_1', 'Vertex-A_f', 'Vertex-B_f', 'Vertex-C_f', 'Vertex-C_b', 'Vertex-D_b', 'Vertex-D_b--->D65C']\n"
          ],
          "name": "stdout"
        }
      ]
    },
    {
      "cell_type": "code",
      "metadata": {
        "colab": {
          "base_uri": "https://localhost:8080/"
        },
        "id": "nd8h8HiucDwl",
        "outputId": "186e2c51-8133-4cd2-cc8e-fd250af6b3ba"
      },
      "source": [
        "print(stack)"
      ],
      "execution_count": null,
      "outputs": [
        {
          "output_type": "stream",
          "text": [
            "defaultdict(<class 'list'>, {'A': [], 'B': [], 'C': [], 'D': [20, 60, 70], 'E': [], 'F': [], 'G': [10, 20], 'H': [], 'I': [], 'J': [20]})\n"
          ],
          "name": "stdout"
        }
      ]
    },
    {
      "cell_type": "code",
      "metadata": {
        "id": "HZm5El26cFfd",
        "colab": {
          "base_uri": "https://localhost:8080/"
        },
        "outputId": "05db7fa5-6017-4037-97a5-234c0b745225"
      },
      "source": [
        "print(overlapping_dict)"
      ],
      "execution_count": null,
      "outputs": [
        {
          "output_type": "stream",
          "text": [
            "defaultdict(<class 'list'>, {'B': [(datetime.datetime(2021, 6, 1, 12, 28, 44, 384955), datetime.datetime(2021, 6, 1, 12, 53, 44, 384955))]})\n"
          ],
          "name": "stdout"
        }
      ]
    },
    {
      "cell_type": "code",
      "metadata": {
        "id": "cbvsTMKkF9mI"
      },
      "source": [
        ""
      ],
      "execution_count": null,
      "outputs": []
    }
  ]
}